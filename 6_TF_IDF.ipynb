{
 "cells": [
  {
   "cell_type": "code",
   "execution_count": 1,
   "id": "2899afc8-02b4-48d5-a893-ce46bdba47c4",
   "metadata": {},
   "outputs": [],
   "source": [
    "paragraph = \"\"\"Thank you all so very much. Thank you to the Academy. Thank you to all of you in this room. I have to congratulate the other incredible nominees this year. The Revenant was the product of the tireless efforts of an unbelievable cast and crew. First off, to my brother in this endeavor, Mr. Tom Hardy. Tom, your talent on screen can only be surpassed by your friendship off screen â¦ thank you for creating a transcendent cinematic experience. Thank you to everybody at Fox and New Regency â¦ my entire team. I have to thank everyone from the very onset of my career â¦ To my parents; none of this would be possible without you. And to my friends, I love you dearly; you know who you are.\"\"\""
   ]
  },
  {
   "cell_type": "code",
   "execution_count": 2,
   "id": "4cfb56a0-6886-4c2d-9d89-c59fafd06c76",
   "metadata": {},
   "outputs": [
    {
     "data": {
      "text/plain": [
       "'Thank you all so very much. Thank you to the Academy. Thank you to all of you in this room. I have to congratulate the other incredible nominees this year. The Revenant was the product of the tireless efforts of an unbelievable cast and crew. First off, to my brother in this endeavor, Mr. Tom Hardy. Tom, your talent on screen can only be surpassed by your friendship off screen â\\x80¦ thank you for creating a transcendent cinematic experience. Thank you to everybody at Fox and New Regency â\\x80¦ my entire team. I have to thank everyone from the very onset of my career â\\x80¦ To my parents; none of this would be possible without you. And to my friends, I love you dearly; you know who you are.'"
      ]
     },
     "execution_count": 2,
     "metadata": {},
     "output_type": "execute_result"
    }
   ],
   "source": [
    "paragraph"
   ]
  },
  {
   "cell_type": "code",
   "execution_count": 3,
   "id": "c39606b2-bcc2-4e57-8810-708148068cec",
   "metadata": {},
   "outputs": [],
   "source": [
    "import nltk"
   ]
  },
  {
   "cell_type": "code",
   "execution_count": 4,
   "id": "dce3012b-8148-4662-8ba8-b07c2c8ec177",
   "metadata": {},
   "outputs": [],
   "source": [
    "datasets = nltk.sent_tokenize(paragraph)"
   ]
  },
  {
   "cell_type": "code",
   "execution_count": 5,
   "id": "4d6b49d0-daa8-4957-be0c-b17482a05fb8",
   "metadata": {},
   "outputs": [
    {
     "data": {
      "text/plain": [
       "['Thank you all so very much.',\n",
       " 'Thank you to the Academy.',\n",
       " 'Thank you to all of you in this room.',\n",
       " 'I have to congratulate the other incredible nominees this year.',\n",
       " 'The Revenant was the product of the tireless efforts of an unbelievable cast and crew.',\n",
       " 'First off, to my brother in this endeavor, Mr. Tom Hardy.',\n",
       " 'Tom, your talent on screen can only be surpassed by your friendship off screen â\\x80¦ thank you for creating a transcendent cinematic experience.',\n",
       " 'Thank you to everybody at Fox and New Regency â\\x80¦ my entire team.',\n",
       " 'I have to thank everyone from the very onset of my career â\\x80¦ To my parents; none of this would be possible without you.',\n",
       " 'And to my friends, I love you dearly; you know who you are.']"
      ]
     },
     "execution_count": 5,
     "metadata": {},
     "output_type": "execute_result"
    }
   ],
   "source": [
    "datasets"
   ]
  },
  {
   "cell_type": "code",
   "execution_count": 6,
   "id": "dde7b73f-b253-43d1-afb7-944854b4ad31",
   "metadata": {},
   "outputs": [
    {
     "data": {
      "text/plain": [
       "10"
      ]
     },
     "execution_count": 6,
     "metadata": {},
     "output_type": "execute_result"
    }
   ],
   "source": [
    "len(datasets)"
   ]
  },
  {
   "cell_type": "code",
   "execution_count": 7,
   "id": "07a31d6a-ea54-4347-af21-a7407e719ca6",
   "metadata": {},
   "outputs": [],
   "source": [
    "import re"
   ]
  },
  {
   "cell_type": "code",
   "execution_count": 8,
   "id": "4bf290e8-875f-4c24-af14-9dc669b09c1d",
   "metadata": {},
   "outputs": [],
   "source": [
    "for i in range(len(datasets)):\n",
    "    datasets[i] = datasets[i].lower()\n",
    "    datasets[i] = re.sub(r'\\W', ' ',datasets[i])\n",
    "    datasets[i] = re.sub(r'\\s+', ' ',datasets[i])\n",
    "    datasets[i] = re.sub(r'\\s+$', '',datasets[i])"
   ]
  },
  {
   "cell_type": "code",
   "execution_count": 9,
   "id": "89d829d9-d2ca-4ccd-8b56-429379c16b8e",
   "metadata": {},
   "outputs": [
    {
     "data": {
      "text/plain": [
       "['thank you all so very much',\n",
       " 'thank you to the academy',\n",
       " 'thank you to all of you in this room',\n",
       " 'i have to congratulate the other incredible nominees this year',\n",
       " 'the revenant was the product of the tireless efforts of an unbelievable cast and crew',\n",
       " 'first off to my brother in this endeavor mr tom hardy',\n",
       " 'tom your talent on screen can only be surpassed by your friendship off screen â thank you for creating a transcendent cinematic experience',\n",
       " 'thank you to everybody at fox and new regency â my entire team',\n",
       " 'i have to thank everyone from the very onset of my career â to my parents none of this would be possible without you',\n",
       " 'and to my friends i love you dearly you know who you are']"
      ]
     },
     "execution_count": 9,
     "metadata": {},
     "output_type": "execute_result"
    }
   ],
   "source": [
    "datasets"
   ]
  },
  {
   "cell_type": "code",
   "execution_count": 10,
   "id": "ac4c07e9-9512-462d-bab6-e7b5f2ff21d1",
   "metadata": {},
   "outputs": [],
   "source": [
    "word2count = {}\n",
    "for data in datasets:\n",
    "    words = nltk.word_tokenize(data)\n",
    "    for word in words:\n",
    "        if word not in word2count.keys():\n",
    "            word2count[word] = 1\n",
    "        else:\n",
    "            word2count[word] +=1"
   ]
  },
  {
   "cell_type": "code",
   "execution_count": 11,
   "id": "cf11be03-a72b-435a-abf6-2597f83b3636",
   "metadata": {},
   "outputs": [
    {
     "data": {
      "text/plain": [
       "{'thank': 6,\n",
       " 'you': 10,\n",
       " 'all': 2,\n",
       " 'so': 1,\n",
       " 'very': 2,\n",
       " 'much': 1,\n",
       " 'to': 8,\n",
       " 'the': 6,\n",
       " 'academy': 1,\n",
       " 'of': 5,\n",
       " 'in': 2,\n",
       " 'this': 4,\n",
       " 'room': 1,\n",
       " 'i': 3,\n",
       " 'have': 2,\n",
       " 'congratulate': 1,\n",
       " 'other': 1,\n",
       " 'incredible': 1,\n",
       " 'nominees': 1,\n",
       " 'year': 1,\n",
       " 'revenant': 1,\n",
       " 'was': 1,\n",
       " 'product': 1,\n",
       " 'tireless': 1,\n",
       " 'efforts': 1,\n",
       " 'an': 1,\n",
       " 'unbelievable': 1,\n",
       " 'cast': 1,\n",
       " 'and': 3,\n",
       " 'crew': 1,\n",
       " 'first': 1,\n",
       " 'off': 2,\n",
       " 'my': 5,\n",
       " 'brother': 1,\n",
       " 'endeavor': 1,\n",
       " 'mr': 1,\n",
       " 'tom': 2,\n",
       " 'hardy': 1,\n",
       " 'your': 2,\n",
       " 'talent': 1,\n",
       " 'on': 1,\n",
       " 'screen': 2,\n",
       " 'can': 1,\n",
       " 'only': 1,\n",
       " 'be': 2,\n",
       " 'surpassed': 1,\n",
       " 'by': 1,\n",
       " 'friendship': 1,\n",
       " 'â': 3,\n",
       " 'for': 1,\n",
       " 'creating': 1,\n",
       " 'a': 1,\n",
       " 'transcendent': 1,\n",
       " 'cinematic': 1,\n",
       " 'experience': 1,\n",
       " 'everybody': 1,\n",
       " 'at': 1,\n",
       " 'fox': 1,\n",
       " 'new': 1,\n",
       " 'regency': 1,\n",
       " 'entire': 1,\n",
       " 'team': 1,\n",
       " 'everyone': 1,\n",
       " 'from': 1,\n",
       " 'onset': 1,\n",
       " 'career': 1,\n",
       " 'parents': 1,\n",
       " 'none': 1,\n",
       " 'would': 1,\n",
       " 'possible': 1,\n",
       " 'without': 1,\n",
       " 'friends': 1,\n",
       " 'love': 1,\n",
       " 'dearly': 1,\n",
       " 'know': 1,\n",
       " 'who': 1,\n",
       " 'are': 1}"
      ]
     },
     "execution_count": 11,
     "metadata": {},
     "output_type": "execute_result"
    }
   ],
   "source": [
    "word2count"
   ]
  },
  {
   "cell_type": "code",
   "execution_count": 12,
   "id": "8e5322a3-ea31-4e51-943d-fb438f8e8fc4",
   "metadata": {},
   "outputs": [],
   "source": [
    "import heapq"
   ]
  },
  {
   "cell_type": "code",
   "execution_count": 13,
   "id": "7e11f6e1-6782-4e06-9562-2e2f24cdde0c",
   "metadata": {},
   "outputs": [],
   "source": [
    "freq_words = heapq.nlargest(15,word2count,key=word2count.get)"
   ]
  },
  {
   "cell_type": "code",
   "execution_count": 14,
   "id": "281d2e17-619c-4225-9cb2-fc15dfcc63c8",
   "metadata": {},
   "outputs": [
    {
     "data": {
      "text/plain": [
       "['you',\n",
       " 'to',\n",
       " 'thank',\n",
       " 'the',\n",
       " 'of',\n",
       " 'my',\n",
       " 'this',\n",
       " 'i',\n",
       " 'and',\n",
       " 'â',\n",
       " 'all',\n",
       " 'very',\n",
       " 'in',\n",
       " 'have',\n",
       " 'off']"
      ]
     },
     "execution_count": 14,
     "metadata": {},
     "output_type": "execute_result"
    }
   ],
   "source": [
    "freq_words"
   ]
  },
  {
   "cell_type": "markdown",
   "id": "cc1d6208-fbd2-42c2-ae15-52afbb764927",
   "metadata": {},
   "source": [
    "# IDF"
   ]
  },
  {
   "cell_type": "markdown",
   "id": "e1765e7d-fa89-4701-95c2-5479b602bb0a",
   "metadata": {},
   "source": [
    "## Inverse Document Frequency (IDF):"
   ]
  },
  {
   "cell_type": "markdown",
   "id": "9a6c97ea-5ebf-4aaf-aa7a-3dd4522b1631",
   "metadata": {},
   "source": [
    "## Measures how rare a word is across the entire corpus."
   ]
  },
  {
   "cell_type": "markdown",
   "id": "8a22621b-f359-4fa6-9654-b60c9b0b1c44",
   "metadata": {},
   "source": [
    "## A higher IDF indicates a word's rarity, making it more significant."
   ]
  },
  {
   "cell_type": "code",
   "execution_count": 15,
   "id": "96f3358f-3dd0-4a71-a9ef-b30647569c68",
   "metadata": {},
   "outputs": [],
   "source": [
    "import numpy as np\n",
    "word_idfs = {}\n",
    "for word in freq_words:\n",
    "    doc_count = 0\n",
    "    for data in datasets:\n",
    "        if word in nltk.word_tokenize(data):\n",
    "            doc_count += 1\n",
    "    word_idfs[word] = np.log((len(datasets)/(doc_count)+1))"
   ]
  },
  {
   "cell_type": "code",
   "execution_count": 16,
   "id": "a4280dd2-f665-4e82-a14e-a49cda060ee2",
   "metadata": {},
   "outputs": [
    {
     "data": {
      "text/plain": [
       "{'you': 0.8873031950009029,\n",
       " 'to': 0.8873031950009029,\n",
       " 'thank': 0.9808292530117263,\n",
       " 'the': 1.252762968495368,\n",
       " 'of': 1.4663370687934272,\n",
       " 'my': 1.252762968495368,\n",
       " 'this': 1.252762968495368,\n",
       " 'i': 1.4663370687934272,\n",
       " 'and': 1.4663370687934272,\n",
       " 'â': 1.4663370687934272,\n",
       " 'all': 1.791759469228055,\n",
       " 'very': 1.791759469228055,\n",
       " 'in': 1.791759469228055,\n",
       " 'have': 1.791759469228055,\n",
       " 'off': 1.791759469228055}"
      ]
     },
     "execution_count": 16,
     "metadata": {},
     "output_type": "execute_result"
    }
   ],
   "source": [
    "word_idfs"
   ]
  },
  {
   "cell_type": "markdown",
   "id": "14c42210-109c-43d1-9b1e-824376598095",
   "metadata": {},
   "source": [
    "# TF"
   ]
  },
  {
   "cell_type": "markdown",
   "id": "ac70d935-8acb-48b8-9349-c6f0bcd1118f",
   "metadata": {},
   "source": [
    "# Term Frequency (TF):"
   ]
  },
  {
   "cell_type": "markdown",
   "id": "926f257e-fdc6-4d63-b207-3565eb4ae0d5",
   "metadata": {},
   "source": [
    "## Measures how often a word appears in a specific document."
   ]
  },
  {
   "cell_type": "markdown",
   "id": "d38b294d-9384-46d5-8151-f84a7a84b31e",
   "metadata": {},
   "source": [
    "## Measures how often a word appears in a specific document."
   ]
  },
  {
   "cell_type": "code",
   "execution_count": 17,
   "id": "d318e5bb-cc3c-484c-9a13-e0b888f9119a",
   "metadata": {},
   "outputs": [],
   "source": [
    "tf_matrix = {}\n",
    "for word in freq_words:\n",
    "    doc_tf = []\n",
    "    for data in datasets:\n",
    "        frequency = 0\n",
    "        for w in nltk.word_tokenize(data):\n",
    "            if w == word:\n",
    "                frequency += 1\n",
    "        tf_word = frequency/len(nltk.word_tokenize(data))\n",
    "        doc_tf.append(tf_word)\n",
    "    tf_matrix[word] = doc_tf"
   ]
  },
  {
   "cell_type": "code",
   "execution_count": 18,
   "id": "c2ee384d-1ce4-45f1-acd5-a0c17b99530b",
   "metadata": {},
   "outputs": [
    {
     "data": {
      "text/plain": [
       "{'you': [0.16666666666666666,\n",
       "  0.2,\n",
       "  0.2222222222222222,\n",
       "  0.0,\n",
       "  0.0,\n",
       "  0.0,\n",
       "  0.043478260869565216,\n",
       "  0.07692307692307693,\n",
       "  0.041666666666666664,\n",
       "  0.23076923076923078],\n",
       " 'to': [0.0,\n",
       "  0.2,\n",
       "  0.1111111111111111,\n",
       "  0.1,\n",
       "  0.0,\n",
       "  0.09090909090909091,\n",
       "  0.0,\n",
       "  0.07692307692307693,\n",
       "  0.08333333333333333,\n",
       "  0.07692307692307693],\n",
       " 'thank': [0.16666666666666666,\n",
       "  0.2,\n",
       "  0.1111111111111111,\n",
       "  0.0,\n",
       "  0.0,\n",
       "  0.0,\n",
       "  0.043478260869565216,\n",
       "  0.07692307692307693,\n",
       "  0.041666666666666664,\n",
       "  0.0],\n",
       " 'the': [0.0, 0.2, 0.0, 0.1, 0.2, 0.0, 0.0, 0.0, 0.041666666666666664, 0.0],\n",
       " 'of': [0.0,\n",
       "  0.0,\n",
       "  0.1111111111111111,\n",
       "  0.0,\n",
       "  0.13333333333333333,\n",
       "  0.0,\n",
       "  0.0,\n",
       "  0.0,\n",
       "  0.08333333333333333,\n",
       "  0.0],\n",
       " 'my': [0.0,\n",
       "  0.0,\n",
       "  0.0,\n",
       "  0.0,\n",
       "  0.0,\n",
       "  0.09090909090909091,\n",
       "  0.0,\n",
       "  0.07692307692307693,\n",
       "  0.08333333333333333,\n",
       "  0.07692307692307693],\n",
       " 'this': [0.0,\n",
       "  0.0,\n",
       "  0.1111111111111111,\n",
       "  0.1,\n",
       "  0.0,\n",
       "  0.09090909090909091,\n",
       "  0.0,\n",
       "  0.0,\n",
       "  0.041666666666666664,\n",
       "  0.0],\n",
       " 'i': [0.0,\n",
       "  0.0,\n",
       "  0.0,\n",
       "  0.1,\n",
       "  0.0,\n",
       "  0.0,\n",
       "  0.0,\n",
       "  0.0,\n",
       "  0.041666666666666664,\n",
       "  0.07692307692307693],\n",
       " 'and': [0.0,\n",
       "  0.0,\n",
       "  0.0,\n",
       "  0.0,\n",
       "  0.06666666666666667,\n",
       "  0.0,\n",
       "  0.0,\n",
       "  0.07692307692307693,\n",
       "  0.0,\n",
       "  0.07692307692307693],\n",
       " 'â': [0.0,\n",
       "  0.0,\n",
       "  0.0,\n",
       "  0.0,\n",
       "  0.0,\n",
       "  0.0,\n",
       "  0.043478260869565216,\n",
       "  0.07692307692307693,\n",
       "  0.041666666666666664,\n",
       "  0.0],\n",
       " 'all': [0.16666666666666666,\n",
       "  0.0,\n",
       "  0.1111111111111111,\n",
       "  0.0,\n",
       "  0.0,\n",
       "  0.0,\n",
       "  0.0,\n",
       "  0.0,\n",
       "  0.0,\n",
       "  0.0],\n",
       " 'very': [0.16666666666666666,\n",
       "  0.0,\n",
       "  0.0,\n",
       "  0.0,\n",
       "  0.0,\n",
       "  0.0,\n",
       "  0.0,\n",
       "  0.0,\n",
       "  0.041666666666666664,\n",
       "  0.0],\n",
       " 'in': [0.0,\n",
       "  0.0,\n",
       "  0.1111111111111111,\n",
       "  0.0,\n",
       "  0.0,\n",
       "  0.09090909090909091,\n",
       "  0.0,\n",
       "  0.0,\n",
       "  0.0,\n",
       "  0.0],\n",
       " 'have': [0.0, 0.0, 0.0, 0.1, 0.0, 0.0, 0.0, 0.0, 0.041666666666666664, 0.0],\n",
       " 'off': [0.0,\n",
       "  0.0,\n",
       "  0.0,\n",
       "  0.0,\n",
       "  0.0,\n",
       "  0.09090909090909091,\n",
       "  0.043478260869565216,\n",
       "  0.0,\n",
       "  0.0,\n",
       "  0.0]}"
      ]
     },
     "execution_count": 18,
     "metadata": {},
     "output_type": "execute_result"
    }
   ],
   "source": [
    "tf_matrix"
   ]
  },
  {
   "cell_type": "markdown",
   "id": "6f7b1545-cd42-4859-8f52-3aaa5cf0d00b",
   "metadata": {},
   "source": [
    "# TF-IDF"
   ]
  },
  {
   "cell_type": "markdown",
   "id": "1633f64f-0b96-49ea-8a9f-543a4e9b4d8c",
   "metadata": {},
   "source": [
    "## you can effectively analyze and extract valuable insights from large amounts of text data."
   ]
  },
  {
   "cell_type": "markdown",
   "id": "d70c0b90-03c8-46a7-8bc1-f9347a60eacd",
   "metadata": {},
   "source": [
    "## The TF-IDF score of a word in a document is calculated as the product of its TF and IDF:"
   ]
  },
  {
   "cell_type": "markdown",
   "id": "4b6bbd8a-f3a1-435d-bc27-dca376d4165f",
   "metadata": {},
   "source": [
    "## TF-IDF(t, d) = TF(t, d) * IDF(t)"
   ]
  },
  {
   "cell_type": "code",
   "execution_count": 19,
   "id": "01acf3c1-a1c3-480b-8864-03740038f3fe",
   "metadata": {},
   "outputs": [],
   "source": [
    "tfidf_matrix = []\n",
    "for word in tf_matrix.keys():\n",
    "    tfidf = []\n",
    "    for value in tf_matrix[word]:\n",
    "        score = value* word_idfs[word]\n",
    "        tfidf.append(score)\n",
    "    tfidf_matrix.append(tfidf)"
   ]
  },
  {
   "cell_type": "code",
   "execution_count": 20,
   "id": "52fd1241-3544-4664-b23d-02fbd250232e",
   "metadata": {},
   "outputs": [
    {
     "data": {
      "text/plain": [
       "[[0.1478838658334838,\n",
       "  0.1774606390001806,\n",
       "  0.19717848777797842,\n",
       "  0.0,\n",
       "  0.0,\n",
       "  0.0,\n",
       "  0.03857839978264795,\n",
       "  0.06825409192314638,\n",
       "  0.03697096645837095,\n",
       "  0.20476227576943914],\n",
       " [0.0,\n",
       "  0.1774606390001806,\n",
       "  0.09858924388898921,\n",
       "  0.0887303195000903,\n",
       "  0.0,\n",
       "  0.08066392681826391,\n",
       "  0.0,\n",
       "  0.06825409192314638,\n",
       "  0.0739419329167419,\n",
       "  0.06825409192314638],\n",
       " [0.16347154216862103,\n",
       "  0.19616585060234526,\n",
       "  0.10898102811241403,\n",
       "  0.0,\n",
       "  0.0,\n",
       "  0.0,\n",
       "  0.04264475013094462,\n",
       "  0.0754484040778251,\n",
       "  0.04086788554215526,\n",
       "  0.0],\n",
       " [0.0,\n",
       "  0.2505525936990736,\n",
       "  0.0,\n",
       "  0.1252762968495368,\n",
       "  0.2505525936990736,\n",
       "  0.0,\n",
       "  0.0,\n",
       "  0.0,\n",
       "  0.05219845702064033,\n",
       "  0.0],\n",
       " [0.0,\n",
       "  0.0,\n",
       "  0.16292634097704745,\n",
       "  0.0,\n",
       "  0.19551160917245697,\n",
       "  0.0,\n",
       "  0.0,\n",
       "  0.0,\n",
       "  0.1221947557327856,\n",
       "  0.0],\n",
       " [0.0,\n",
       "  0.0,\n",
       "  0.0,\n",
       "  0.0,\n",
       "  0.0,\n",
       "  0.11388754259048801,\n",
       "  0.0,\n",
       "  0.0963663821919514,\n",
       "  0.10439691404128067,\n",
       "  0.0963663821919514],\n",
       " [0.0,\n",
       "  0.0,\n",
       "  0.1391958853883742,\n",
       "  0.1252762968495368,\n",
       "  0.0,\n",
       "  0.11388754259048801,\n",
       "  0.0,\n",
       "  0.0,\n",
       "  0.05219845702064033,\n",
       "  0.0],\n",
       " [0.0,\n",
       "  0.0,\n",
       "  0.0,\n",
       "  0.1466337068793427,\n",
       "  0.0,\n",
       "  0.0,\n",
       "  0.0,\n",
       "  0.0,\n",
       "  0.0610973778663928,\n",
       "  0.11279515913795594],\n",
       " [0.0,\n",
       "  0.0,\n",
       "  0.0,\n",
       "  0.0,\n",
       "  0.09775580458622848,\n",
       "  0.0,\n",
       "  0.0,\n",
       "  0.11279515913795594,\n",
       "  0.0,\n",
       "  0.11279515913795594],\n",
       " [0.0,\n",
       "  0.0,\n",
       "  0.0,\n",
       "  0.0,\n",
       "  0.0,\n",
       "  0.0,\n",
       "  0.06375378559971423,\n",
       "  0.11279515913795594,\n",
       "  0.0610973778663928,\n",
       "  0.0],\n",
       " [0.2986265782046758,\n",
       "  0.0,\n",
       "  0.19908438546978388,\n",
       "  0.0,\n",
       "  0.0,\n",
       "  0.0,\n",
       "  0.0,\n",
       "  0.0,\n",
       "  0.0,\n",
       "  0.0],\n",
       " [0.2986265782046758,\n",
       "  0.0,\n",
       "  0.0,\n",
       "  0.0,\n",
       "  0.0,\n",
       "  0.0,\n",
       "  0.0,\n",
       "  0.0,\n",
       "  0.07465664455116895,\n",
       "  0.0],\n",
       " [0.0,\n",
       "  0.0,\n",
       "  0.19908438546978388,\n",
       "  0.0,\n",
       "  0.0,\n",
       "  0.16288722447527773,\n",
       "  0.0,\n",
       "  0.0,\n",
       "  0.0,\n",
       "  0.0],\n",
       " [0.0,\n",
       "  0.0,\n",
       "  0.0,\n",
       "  0.1791759469228055,\n",
       "  0.0,\n",
       "  0.0,\n",
       "  0.0,\n",
       "  0.0,\n",
       "  0.07465664455116895,\n",
       "  0.0],\n",
       " [0.0,\n",
       "  0.0,\n",
       "  0.0,\n",
       "  0.0,\n",
       "  0.0,\n",
       "  0.16288722447527773,\n",
       "  0.07790258561861109,\n",
       "  0.0,\n",
       "  0.0,\n",
       "  0.0]]"
      ]
     },
     "execution_count": 20,
     "metadata": {},
     "output_type": "execute_result"
    }
   ],
   "source": [
    "tfidf_matrix"
   ]
  },
  {
   "cell_type": "code",
   "execution_count": 21,
   "id": "14c00bf7-a18c-4b15-8ac9-db8c871b468b",
   "metadata": {},
   "outputs": [],
   "source": [
    "X = np.asarray(tfidf_matrix)"
   ]
  },
  {
   "cell_type": "code",
   "execution_count": 22,
   "id": "23af19c0-6416-4a7d-a124-2438b1b2decb",
   "metadata": {},
   "outputs": [
    {
     "data": {
      "text/plain": [
       "array([[0.14788387, 0.17746064, 0.19717849, 0.        , 0.        ,\n",
       "        0.        , 0.0385784 , 0.06825409, 0.03697097, 0.20476228],\n",
       "       [0.        , 0.17746064, 0.09858924, 0.08873032, 0.        ,\n",
       "        0.08066393, 0.        , 0.06825409, 0.07394193, 0.06825409],\n",
       "       [0.16347154, 0.19616585, 0.10898103, 0.        , 0.        ,\n",
       "        0.        , 0.04264475, 0.0754484 , 0.04086789, 0.        ],\n",
       "       [0.        , 0.25055259, 0.        , 0.1252763 , 0.25055259,\n",
       "        0.        , 0.        , 0.        , 0.05219846, 0.        ],\n",
       "       [0.        , 0.        , 0.16292634, 0.        , 0.19551161,\n",
       "        0.        , 0.        , 0.        , 0.12219476, 0.        ],\n",
       "       [0.        , 0.        , 0.        , 0.        , 0.        ,\n",
       "        0.11388754, 0.        , 0.09636638, 0.10439691, 0.09636638],\n",
       "       [0.        , 0.        , 0.13919589, 0.1252763 , 0.        ,\n",
       "        0.11388754, 0.        , 0.        , 0.05219846, 0.        ],\n",
       "       [0.        , 0.        , 0.        , 0.14663371, 0.        ,\n",
       "        0.        , 0.        , 0.        , 0.06109738, 0.11279516],\n",
       "       [0.        , 0.        , 0.        , 0.        , 0.0977558 ,\n",
       "        0.        , 0.        , 0.11279516, 0.        , 0.11279516],\n",
       "       [0.        , 0.        , 0.        , 0.        , 0.        ,\n",
       "        0.        , 0.06375379, 0.11279516, 0.06109738, 0.        ],\n",
       "       [0.29862658, 0.        , 0.19908439, 0.        , 0.        ,\n",
       "        0.        , 0.        , 0.        , 0.        , 0.        ],\n",
       "       [0.29862658, 0.        , 0.        , 0.        , 0.        ,\n",
       "        0.        , 0.        , 0.        , 0.07465664, 0.        ],\n",
       "       [0.        , 0.        , 0.19908439, 0.        , 0.        ,\n",
       "        0.16288722, 0.        , 0.        , 0.        , 0.        ],\n",
       "       [0.        , 0.        , 0.        , 0.17917595, 0.        ,\n",
       "        0.        , 0.        , 0.        , 0.07465664, 0.        ],\n",
       "       [0.        , 0.        , 0.        , 0.        , 0.        ,\n",
       "        0.16288722, 0.07790259, 0.        , 0.        , 0.        ]])"
      ]
     },
     "execution_count": 22,
     "metadata": {},
     "output_type": "execute_result"
    }
   ],
   "source": [
    "X"
   ]
  },
  {
   "cell_type": "code",
   "execution_count": 23,
   "id": "c4f6e805-e553-4032-8b3f-0b0f2da70960",
   "metadata": {},
   "outputs": [],
   "source": [
    "X = np.transpose(X)"
   ]
  },
  {
   "cell_type": "code",
   "execution_count": 24,
   "id": "de12f4f9-1003-4095-b5f3-e000934bb004",
   "metadata": {},
   "outputs": [
    {
     "data": {
      "text/plain": [
       "(10, 15)"
      ]
     },
     "execution_count": 24,
     "metadata": {},
     "output_type": "execute_result"
    }
   ],
   "source": [
    "X.shape"
   ]
  },
  {
   "cell_type": "code",
   "execution_count": 25,
   "id": "750fc99c-40a2-4c94-b9c0-0db4a2cd1082",
   "metadata": {},
   "outputs": [
    {
     "data": {
      "text/plain": [
       "array([[0.14788387, 0.        , 0.16347154, 0.        , 0.        ,\n",
       "        0.        , 0.        , 0.        , 0.        , 0.        ,\n",
       "        0.29862658, 0.29862658, 0.        , 0.        , 0.        ],\n",
       "       [0.17746064, 0.17746064, 0.19616585, 0.25055259, 0.        ,\n",
       "        0.        , 0.        , 0.        , 0.        , 0.        ,\n",
       "        0.        , 0.        , 0.        , 0.        , 0.        ],\n",
       "       [0.19717849, 0.09858924, 0.10898103, 0.        , 0.16292634,\n",
       "        0.        , 0.13919589, 0.        , 0.        , 0.        ,\n",
       "        0.19908439, 0.        , 0.19908439, 0.        , 0.        ],\n",
       "       [0.        , 0.08873032, 0.        , 0.1252763 , 0.        ,\n",
       "        0.        , 0.1252763 , 0.14663371, 0.        , 0.        ,\n",
       "        0.        , 0.        , 0.        , 0.17917595, 0.        ],\n",
       "       [0.        , 0.        , 0.        , 0.25055259, 0.19551161,\n",
       "        0.        , 0.        , 0.        , 0.0977558 , 0.        ,\n",
       "        0.        , 0.        , 0.        , 0.        , 0.        ],\n",
       "       [0.        , 0.08066393, 0.        , 0.        , 0.        ,\n",
       "        0.11388754, 0.11388754, 0.        , 0.        , 0.        ,\n",
       "        0.        , 0.        , 0.16288722, 0.        , 0.16288722],\n",
       "       [0.0385784 , 0.        , 0.04264475, 0.        , 0.        ,\n",
       "        0.        , 0.        , 0.        , 0.        , 0.06375379,\n",
       "        0.        , 0.        , 0.        , 0.        , 0.07790259],\n",
       "       [0.06825409, 0.06825409, 0.0754484 , 0.        , 0.        ,\n",
       "        0.09636638, 0.        , 0.        , 0.11279516, 0.11279516,\n",
       "        0.        , 0.        , 0.        , 0.        , 0.        ],\n",
       "       [0.03697097, 0.07394193, 0.04086789, 0.05219846, 0.12219476,\n",
       "        0.10439691, 0.05219846, 0.06109738, 0.        , 0.06109738,\n",
       "        0.        , 0.07465664, 0.        , 0.07465664, 0.        ],\n",
       "       [0.20476228, 0.06825409, 0.        , 0.        , 0.        ,\n",
       "        0.09636638, 0.        , 0.11279516, 0.11279516, 0.        ,\n",
       "        0.        , 0.        , 0.        , 0.        , 0.        ]])"
      ]
     },
     "execution_count": 25,
     "metadata": {},
     "output_type": "execute_result"
    }
   ],
   "source": [
    "X"
   ]
  },
  {
   "cell_type": "code",
   "execution_count": null,
   "id": "28abd70d-e61f-4e68-8f6b-e2904f645b41",
   "metadata": {},
   "outputs": [],
   "source": []
  }
 ],
 "metadata": {
  "kernelspec": {
   "display_name": "Python 3 (ipykernel)",
   "language": "python",
   "name": "python3"
  },
  "language_info": {
   "codemirror_mode": {
    "name": "ipython",
    "version": 3
   },
   "file_extension": ".py",
   "mimetype": "text/x-python",
   "name": "python",
   "nbconvert_exporter": "python",
   "pygments_lexer": "ipython3",
   "version": "3.8.20"
  }
 },
 "nbformat": 4,
 "nbformat_minor": 5
}
