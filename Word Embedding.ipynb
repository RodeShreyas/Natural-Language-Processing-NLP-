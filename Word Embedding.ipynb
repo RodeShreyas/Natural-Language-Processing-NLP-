{
 "cells": [
  {
   "cell_type": "markdown",
   "id": "d53b30ed-b082-4eed-a243-c1b74794f041",
   "metadata": {},
   "source": [
    "#### If the cosine similarity is 1, the angle between the vectors is 0 degrees, meaning they point in the same direction (very similar)."
   ]
  },
  {
   "cell_type": "markdown",
   "id": "061f5a43-1372-4153-801c-a1d9e1b6fdda",
   "metadata": {},
   "source": [
    "#### If the cosine similarity is 0, the angle is 90 degrees, meaning the vectors are orthogonal (no similarity)."
   ]
  },
  {
   "cell_type": "markdown",
   "id": "83db9ea8-be14-49f7-9aa9-cac94e67e6ca",
   "metadata": {},
   "source": [
    "#### If the cosine similarity is -1, the angle is 180 degrees, meaning the vectors point in opposite directions (very dissimilar)."
   ]
  },
  {
   "cell_type": "code",
   "execution_count": 1,
   "id": "3765dd8e-f993-474f-bdd2-72b3bb720386",
   "metadata": {},
   "outputs": [],
   "source": [
    "import numpy as np\n",
    "from tensorflow.keras.layers import Embedding\n",
    "from tensorflow.keras.preprocessing.sequence import pad_sequences\n",
    "from tensorflow.keras.models import Sequential\n",
    "from tensorflow.keras.preprocessing.text import one_hot"
   ]
  },
  {
   "cell_type": "code",
   "execution_count": 2,
   "id": "7d77d8cb-f619-4adc-8078-962dd996b395",
   "metadata": {},
   "outputs": [],
   "source": [
    "sent = ['the cup of tea',\n",
    "       'the cup of juice',\n",
    "       'the glass of milk',\n",
    "       'i am a good boy',\n",
    "       'i am a good developer',\n",
    "       'understand the meaning of word',\n",
    "       'your bike is very good']"
   ]
  },
  {
   "cell_type": "code",
   "execution_count": 3,
   "id": "6fe71b60-7155-4696-9737-4e768d54dcff",
   "metadata": {},
   "outputs": [
    {
     "data": {
      "text/plain": [
       "['the cup of tea',\n",
       " 'the cup of juice',\n",
       " 'the glass of milk',\n",
       " 'i am a good boy',\n",
       " 'i am a good developer',\n",
       " 'understand the meaning of word',\n",
       " 'your bike is very good']"
      ]
     },
     "execution_count": 3,
     "metadata": {},
     "output_type": "execute_result"
    }
   ],
   "source": [
    "sent"
   ]
  },
  {
   "cell_type": "code",
   "execution_count": 4,
   "id": "09a910c1-bee1-48c2-837f-5cfb794c5f07",
   "metadata": {},
   "outputs": [
    {
     "data": {
      "text/plain": [
       "7"
      ]
     },
     "execution_count": 4,
     "metadata": {},
     "output_type": "execute_result"
    }
   ],
   "source": [
    "len(sent)"
   ]
  },
  {
   "cell_type": "markdown",
   "id": "510c0316-5e62-416f-8020-73ff03b576f2",
   "metadata": {},
   "source": [
    "### Represents the size of your vocabulary, i.e., the total number of unique words in your dataset."
   ]
  },
  {
   "cell_type": "code",
   "execution_count": 5,
   "id": "ee8378ad-6c9c-4cd5-8681-c536ba6e8174",
   "metadata": {},
   "outputs": [],
   "source": [
    "voc_size = 10000"
   ]
  },
  {
   "cell_type": "markdown",
   "id": "0a6601a9-2fb2-4ba4-b51e-ffd1190639fd",
   "metadata": {},
   "source": [
    "### Word Embeddings: Representing words as dense vectors, capturing semantic and syntactic relationships."
   ]
  },
  {
   "cell_type": "code",
   "execution_count": 6,
   "id": "5612ac96-aefb-4e4a-91af-1a57079c10bb",
   "metadata": {},
   "outputs": [],
   "source": [
    "onehot_repr = [one_hot(word,voc_size) for word in sent]"
   ]
  },
  {
   "cell_type": "code",
   "execution_count": 7,
   "id": "e9b6529d-08a3-4689-bbee-0761c5ef3857",
   "metadata": {},
   "outputs": [
    {
     "data": {
      "text/plain": [
       "[[8830, 1429, 40, 457],\n",
       " [8830, 1429, 40, 2914],\n",
       " [8830, 9994, 40, 9506],\n",
       " [6193, 1973, 4971, 2776, 2310],\n",
       " [6193, 1973, 4971, 2776, 4864],\n",
       " [3723, 8830, 3153, 40, 489],\n",
       " [6248, 6985, 1821, 3846, 2776]]"
      ]
     },
     "execution_count": 7,
     "metadata": {},
     "output_type": "execute_result"
    }
   ],
   "source": [
    "onehot_repr"
   ]
  },
  {
   "cell_type": "code",
   "execution_count": 8,
   "id": "106dd0f5-7c76-4c50-b6ec-d196147509dc",
   "metadata": {},
   "outputs": [],
   "source": [
    "sent_len = 8"
   ]
  },
  {
   "cell_type": "code",
   "execution_count": 9,
   "id": "385bc5f9-348e-4506-b96a-7d3e5381c02a",
   "metadata": {},
   "outputs": [],
   "source": [
    "embedding_docs = pad_sequences(onehot_repr,padding='pre',maxlen=sent_len)"
   ]
  },
  {
   "cell_type": "code",
   "execution_count": 10,
   "id": "744fb6b1-c4e7-470e-9437-ac32f1115ca2",
   "metadata": {},
   "outputs": [
    {
     "data": {
      "text/plain": [
       "array([[   0,    0,    0,    0, 8830, 1429,   40,  457],\n",
       "       [   0,    0,    0,    0, 8830, 1429,   40, 2914],\n",
       "       [   0,    0,    0,    0, 8830, 9994,   40, 9506],\n",
       "       [   0,    0,    0, 6193, 1973, 4971, 2776, 2310],\n",
       "       [   0,    0,    0, 6193, 1973, 4971, 2776, 4864],\n",
       "       [   0,    0,    0, 3723, 8830, 3153,   40,  489],\n",
       "       [   0,    0,    0, 6248, 6985, 1821, 3846, 2776]])"
      ]
     },
     "execution_count": 10,
     "metadata": {},
     "output_type": "execute_result"
    }
   ],
   "source": [
    "embedding_docs"
   ]
  },
  {
   "cell_type": "code",
   "execution_count": 11,
   "id": "77a55b7d-5115-47b0-a2f0-8add6dd35a08",
   "metadata": {},
   "outputs": [],
   "source": [
    "model = Sequential()\n",
    "model.add(Embedding(voc_size,10,input_length=sent_len))"
   ]
  },
  {
   "cell_type": "markdown",
   "id": "fe2d1573-b2d6-4322-9bea-4f3d02d42a8b",
   "metadata": {},
   "source": [
    "## 10 = Specifies the dimensionality of the embedding space."
   ]
  },
  {
   "cell_type": "markdown",
   "id": "e39f0739-d62b-4fc4-8b34-63256c5c3218",
   "metadata": {},
   "source": [
    "## Each word will be represented as a dense vector of size 10."
   ]
  },
  {
   "cell_type": "code",
   "execution_count": 12,
   "id": "c2b46b97-e609-4486-893d-365eaa9f59bb",
   "metadata": {},
   "outputs": [
    {
     "name": "stdout",
     "output_type": "stream",
     "text": [
      "Model: \"sequential\"\n",
      "_________________________________________________________________\n",
      " Layer (type)                Output Shape              Param #   \n",
      "=================================================================\n",
      " embedding (Embedding)       (None, 8, 10)             100000    \n",
      "                                                                 \n",
      "=================================================================\n",
      "Total params: 100,000\n",
      "Trainable params: 100,000\n",
      "Non-trainable params: 0\n",
      "_________________________________________________________________\n"
     ]
    }
   ],
   "source": [
    "model.summary()"
   ]
  },
  {
   "cell_type": "code",
   "execution_count": 13,
   "id": "12cc8a2b-b9f0-49fa-b1d7-17e6bb3d24d2",
   "metadata": {},
   "outputs": [],
   "source": [
    "model.compile(optimizer='adam',loss='mse')"
   ]
  },
  {
   "cell_type": "code",
   "execution_count": 14,
   "id": "7c6c95fb-5f97-47a8-bb11-3d8b94b048f1",
   "metadata": {},
   "outputs": [
    {
     "name": "stdout",
     "output_type": "stream",
     "text": [
      "1/1 [==============================] - 0s 203ms/step\n"
     ]
    }
   ],
   "source": [
    "test = model.predict(embedding_docs)"
   ]
  },
  {
   "cell_type": "code",
   "execution_count": 15,
   "id": "2653be45-a2e0-4dab-bcf1-348018172401",
   "metadata": {},
   "outputs": [
    {
     "data": {
      "text/plain": [
       "array([[[-0.02738047, -0.01239734, -0.00592859, -0.03856251,\n",
       "          0.01730131,  0.01123793, -0.04281748, -0.00725784,\n",
       "          0.01974161,  0.01852438],\n",
       "        [-0.02738047, -0.01239734, -0.00592859, -0.03856251,\n",
       "          0.01730131,  0.01123793, -0.04281748, -0.00725784,\n",
       "          0.01974161,  0.01852438],\n",
       "        [-0.02738047, -0.01239734, -0.00592859, -0.03856251,\n",
       "          0.01730131,  0.01123793, -0.04281748, -0.00725784,\n",
       "          0.01974161,  0.01852438],\n",
       "        [-0.02738047, -0.01239734, -0.00592859, -0.03856251,\n",
       "          0.01730131,  0.01123793, -0.04281748, -0.00725784,\n",
       "          0.01974161,  0.01852438],\n",
       "        [ 0.02260143,  0.0288301 ,  0.00158245,  0.03234601,\n",
       "          0.00966799, -0.01907057, -0.04882883,  0.04142496,\n",
       "         -0.02896094,  0.02413738],\n",
       "        [ 0.01197611,  0.00743956,  0.03801392,  0.01021146,\n",
       "         -0.04364231, -0.00971224,  0.02474083, -0.04152535,\n",
       "         -0.00479716,  0.04601495],\n",
       "        [ 0.00578063, -0.01016172, -0.0405167 , -0.03713263,\n",
       "          0.01438801,  0.03356148, -0.0066816 ,  0.02697999,\n",
       "         -0.01142542,  0.0044403 ],\n",
       "        [ 0.00148028, -0.01129434,  0.03580839,  0.02993555,\n",
       "          0.00749104, -0.01247618, -0.02387066, -0.03739015,\n",
       "          0.02322115, -0.01216348]],\n",
       "\n",
       "       [[-0.02738047, -0.01239734, -0.00592859, -0.03856251,\n",
       "          0.01730131,  0.01123793, -0.04281748, -0.00725784,\n",
       "          0.01974161,  0.01852438],\n",
       "        [-0.02738047, -0.01239734, -0.00592859, -0.03856251,\n",
       "          0.01730131,  0.01123793, -0.04281748, -0.00725784,\n",
       "          0.01974161,  0.01852438],\n",
       "        [-0.02738047, -0.01239734, -0.00592859, -0.03856251,\n",
       "          0.01730131,  0.01123793, -0.04281748, -0.00725784,\n",
       "          0.01974161,  0.01852438],\n",
       "        [-0.02738047, -0.01239734, -0.00592859, -0.03856251,\n",
       "          0.01730131,  0.01123793, -0.04281748, -0.00725784,\n",
       "          0.01974161,  0.01852438],\n",
       "        [ 0.02260143,  0.0288301 ,  0.00158245,  0.03234601,\n",
       "          0.00966799, -0.01907057, -0.04882883,  0.04142496,\n",
       "         -0.02896094,  0.02413738],\n",
       "        [ 0.01197611,  0.00743956,  0.03801392,  0.01021146,\n",
       "         -0.04364231, -0.00971224,  0.02474083, -0.04152535,\n",
       "         -0.00479716,  0.04601495],\n",
       "        [ 0.00578063, -0.01016172, -0.0405167 , -0.03713263,\n",
       "          0.01438801,  0.03356148, -0.0066816 ,  0.02697999,\n",
       "         -0.01142542,  0.0044403 ],\n",
       "        [ 0.04858842,  0.00455244,  0.00116441,  0.04116627,\n",
       "          0.00497156,  0.04398954,  0.01105659, -0.02047955,\n",
       "         -0.01970271,  0.02466125]],\n",
       "\n",
       "       [[-0.02738047, -0.01239734, -0.00592859, -0.03856251,\n",
       "          0.01730131,  0.01123793, -0.04281748, -0.00725784,\n",
       "          0.01974161,  0.01852438],\n",
       "        [-0.02738047, -0.01239734, -0.00592859, -0.03856251,\n",
       "          0.01730131,  0.01123793, -0.04281748, -0.00725784,\n",
       "          0.01974161,  0.01852438],\n",
       "        [-0.02738047, -0.01239734, -0.00592859, -0.03856251,\n",
       "          0.01730131,  0.01123793, -0.04281748, -0.00725784,\n",
       "          0.01974161,  0.01852438],\n",
       "        [-0.02738047, -0.01239734, -0.00592859, -0.03856251,\n",
       "          0.01730131,  0.01123793, -0.04281748, -0.00725784,\n",
       "          0.01974161,  0.01852438],\n",
       "        [ 0.02260143,  0.0288301 ,  0.00158245,  0.03234601,\n",
       "          0.00966799, -0.01907057, -0.04882883,  0.04142496,\n",
       "         -0.02896094,  0.02413738],\n",
       "        [-0.04136969,  0.03405849,  0.00449147, -0.03472518,\n",
       "         -0.03684603,  0.03506533,  0.01267692,  0.0053301 ,\n",
       "          0.02267497, -0.04568225],\n",
       "        [ 0.00578063, -0.01016172, -0.0405167 , -0.03713263,\n",
       "          0.01438801,  0.03356148, -0.0066816 ,  0.02697999,\n",
       "         -0.01142542,  0.0044403 ],\n",
       "        [-0.02491982,  0.02148852,  0.04752496, -0.02694923,\n",
       "          0.02269902, -0.03118051,  0.01318732, -0.02960782,\n",
       "         -0.04846128,  0.01521558]],\n",
       "\n",
       "       [[-0.02738047, -0.01239734, -0.00592859, -0.03856251,\n",
       "          0.01730131,  0.01123793, -0.04281748, -0.00725784,\n",
       "          0.01974161,  0.01852438],\n",
       "        [-0.02738047, -0.01239734, -0.00592859, -0.03856251,\n",
       "          0.01730131,  0.01123793, -0.04281748, -0.00725784,\n",
       "          0.01974161,  0.01852438],\n",
       "        [-0.02738047, -0.01239734, -0.00592859, -0.03856251,\n",
       "          0.01730131,  0.01123793, -0.04281748, -0.00725784,\n",
       "          0.01974161,  0.01852438],\n",
       "        [-0.00726862,  0.01076246, -0.01940413, -0.00539134,\n",
       "         -0.0416497 , -0.00647188, -0.0164446 , -0.04192879,\n",
       "          0.04266644, -0.04780407],\n",
       "        [ 0.00856858, -0.00811707, -0.01126516,  0.00399988,\n",
       "          0.04819789,  0.01984653, -0.00906763,  0.02220437,\n",
       "          0.0383405 ,  0.00657523],\n",
       "        [-0.01666778, -0.03041403,  0.03342101, -0.00347135,\n",
       "          0.03174979,  0.01595766,  0.01039516, -0.03938586,\n",
       "         -0.03690381, -0.03983092],\n",
       "        [-0.00048225,  0.04389619,  0.02289848,  0.00944442,\n",
       "         -0.03550439,  0.0473035 ,  0.01807291,  0.01313915,\n",
       "         -0.0016188 , -0.04836291],\n",
       "        [-0.04826758,  0.00174723, -0.00011157, -0.02272073,\n",
       "         -0.0299993 ,  0.02271327, -0.0493976 , -0.0180838 ,\n",
       "         -0.00544242, -0.00409064]],\n",
       "\n",
       "       [[-0.02738047, -0.01239734, -0.00592859, -0.03856251,\n",
       "          0.01730131,  0.01123793, -0.04281748, -0.00725784,\n",
       "          0.01974161,  0.01852438],\n",
       "        [-0.02738047, -0.01239734, -0.00592859, -0.03856251,\n",
       "          0.01730131,  0.01123793, -0.04281748, -0.00725784,\n",
       "          0.01974161,  0.01852438],\n",
       "        [-0.02738047, -0.01239734, -0.00592859, -0.03856251,\n",
       "          0.01730131,  0.01123793, -0.04281748, -0.00725784,\n",
       "          0.01974161,  0.01852438],\n",
       "        [-0.00726862,  0.01076246, -0.01940413, -0.00539134,\n",
       "         -0.0416497 , -0.00647188, -0.0164446 , -0.04192879,\n",
       "          0.04266644, -0.04780407],\n",
       "        [ 0.00856858, -0.00811707, -0.01126516,  0.00399988,\n",
       "          0.04819789,  0.01984653, -0.00906763,  0.02220437,\n",
       "          0.0383405 ,  0.00657523],\n",
       "        [-0.01666778, -0.03041403,  0.03342101, -0.00347135,\n",
       "          0.03174979,  0.01595766,  0.01039516, -0.03938586,\n",
       "         -0.03690381, -0.03983092],\n",
       "        [-0.00048225,  0.04389619,  0.02289848,  0.00944442,\n",
       "         -0.03550439,  0.0473035 ,  0.01807291,  0.01313915,\n",
       "         -0.0016188 , -0.04836291],\n",
       "        [-0.04754774,  0.02595613,  0.01000502,  0.00066751,\n",
       "          0.0126593 , -0.00948822, -0.02224642,  0.00403634,\n",
       "         -0.00172558, -0.02293432]],\n",
       "\n",
       "       [[-0.02738047, -0.01239734, -0.00592859, -0.03856251,\n",
       "          0.01730131,  0.01123793, -0.04281748, -0.00725784,\n",
       "          0.01974161,  0.01852438],\n",
       "        [-0.02738047, -0.01239734, -0.00592859, -0.03856251,\n",
       "          0.01730131,  0.01123793, -0.04281748, -0.00725784,\n",
       "          0.01974161,  0.01852438],\n",
       "        [-0.02738047, -0.01239734, -0.00592859, -0.03856251,\n",
       "          0.01730131,  0.01123793, -0.04281748, -0.00725784,\n",
       "          0.01974161,  0.01852438],\n",
       "        [ 0.00822378, -0.03409094, -0.02289723, -0.02054031,\n",
       "          0.02788568,  0.02237879,  0.00407051, -0.00278161,\n",
       "         -0.03135122,  0.04941377],\n",
       "        [ 0.02260143,  0.0288301 ,  0.00158245,  0.03234601,\n",
       "          0.00966799, -0.01907057, -0.04882883,  0.04142496,\n",
       "         -0.02896094,  0.02413738],\n",
       "        [-0.01483231, -0.03538641,  0.02756723, -0.00511567,\n",
       "         -0.01033404, -0.00952793, -0.01153566, -0.03558673,\n",
       "         -0.02380992,  0.04983077],\n",
       "        [ 0.00578063, -0.01016172, -0.0405167 , -0.03713263,\n",
       "          0.01438801,  0.03356148, -0.0066816 ,  0.02697999,\n",
       "         -0.01142542,  0.0044403 ],\n",
       "        [ 0.00822654,  0.0404383 , -0.03280582, -0.04768821,\n",
       "         -0.01792289, -0.00993427, -0.04655442, -0.0231884 ,\n",
       "          0.0177987 , -0.00765648]],\n",
       "\n",
       "       [[-0.02738047, -0.01239734, -0.00592859, -0.03856251,\n",
       "          0.01730131,  0.01123793, -0.04281748, -0.00725784,\n",
       "          0.01974161,  0.01852438],\n",
       "        [-0.02738047, -0.01239734, -0.00592859, -0.03856251,\n",
       "          0.01730131,  0.01123793, -0.04281748, -0.00725784,\n",
       "          0.01974161,  0.01852438],\n",
       "        [-0.02738047, -0.01239734, -0.00592859, -0.03856251,\n",
       "          0.01730131,  0.01123793, -0.04281748, -0.00725784,\n",
       "          0.01974161,  0.01852438],\n",
       "        [-0.04112865, -0.00658957, -0.03110833, -0.03906316,\n",
       "         -0.04407037, -0.02024276,  0.00223657,  0.0138137 ,\n",
       "          0.03971429, -0.04477816],\n",
       "        [-0.0090997 ,  0.02907658, -0.0271789 ,  0.00662522,\n",
       "          0.04231438,  0.00849594, -0.00697739, -0.00334284,\n",
       "         -0.04901885,  0.03987063],\n",
       "        [-0.04906747, -0.04698259,  0.03342725,  0.00890789,\n",
       "         -0.02812648, -0.01121533, -0.03153532,  0.00603199,\n",
       "          0.03949112,  0.04776945],\n",
       "        [ 0.02587802, -0.0434706 , -0.04735137,  0.02496267,\n",
       "         -0.02700685, -0.02880071, -0.0183421 , -0.0269834 ,\n",
       "          0.01770874,  0.04182914],\n",
       "        [-0.00048225,  0.04389619,  0.02289848,  0.00944442,\n",
       "         -0.03550439,  0.0473035 ,  0.01807291,  0.01313915,\n",
       "         -0.0016188 , -0.04836291]]], dtype=float32)"
      ]
     },
     "execution_count": 15,
     "metadata": {},
     "output_type": "execute_result"
    }
   ],
   "source": [
    "test"
   ]
  },
  {
   "cell_type": "markdown",
   "id": "6797691f-c5da-4a8f-974c-1cab6f8aaca8",
   "metadata": {},
   "source": [
    "# Word2vec"
   ]
  },
  {
   "cell_type": "code",
   "execution_count": 16,
   "id": "3a731f8f-2868-49a3-a77c-bebb30f7956e",
   "metadata": {},
   "outputs": [],
   "source": [
    "text = \"\"\"The climate has continuously changing for centuries. The global warming happens because the natural rotation of the sun that changes the intensity of sunlight and moving closer to the earth. Another cause of global warming is greenhouse gases. Greenhouse gases are carbon monoxide and sulphur dioxide it trap the solar heats rays and prevent it from escaping from the surface of the earth. This has cause the temperature of the earth increase. Volcanic eruptions are another issue that causes global warming. For instance, a single volcanic eruption will release amount of carbon dioxide and ash to the atmosphere. Once carbon dioxide increase, the temperature of earth increase and greenhouse trap the solar radiations in the earth. Finally, methane is another issue that causes global warming. Methane is also a greenhouse gas. Methane is more effective in trapping heat in the atmosphere that carbon dioxide by 20 times. Usually methane gas can release from many areas. For instance, it can be from cattle, landfill, natural gas, petroleum systems, coal mining, mobile explosion, or industrial waste process.\"\"\""
   ]
  },
  {
   "cell_type": "code",
   "execution_count": 17,
   "id": "ddf44d85-c475-4c1b-a4c8-c78b42498212",
   "metadata": {},
   "outputs": [
    {
     "data": {
      "text/plain": [
       "'The climate has continuously changing for centuries. The global warming happens because the natural rotation of the sun that changes the intensity of sunlight and moving closer to the earth. Another cause of global warming is greenhouse gases. Greenhouse gases are carbon monoxide and sulphur dioxide it trap the solar heats rays and prevent it from escaping from the surface of the earth. This has cause the temperature of the earth increase. Volcanic eruptions are another issue that causes global warming. For instance, a single volcanic eruption will release amount of carbon dioxide and ash to the atmosphere. Once carbon dioxide increase, the temperature of earth increase and greenhouse trap the solar radiations in the earth. Finally, methane is another issue that causes global warming. Methane is also a greenhouse gas. Methane is more effective in trapping heat in the atmosphere that carbon dioxide by 20 times. Usually methane gas can release from many areas. For instance, it can be from cattle, landfill, natural gas, petroleum systems, coal mining, mobile explosion, or industrial waste process.'"
      ]
     },
     "execution_count": 17,
     "metadata": {},
     "output_type": "execute_result"
    }
   ],
   "source": [
    "text"
   ]
  },
  {
   "cell_type": "code",
   "execution_count": 18,
   "id": "6c4f1398-3b70-483d-8eb3-e67617173161",
   "metadata": {},
   "outputs": [],
   "source": [
    "import nltk"
   ]
  },
  {
   "cell_type": "markdown",
   "id": "ab85f1f9-f7da-4c72-a78d-754840184770",
   "metadata": {},
   "source": [
    "## Gensim is a free open-source Python library for representing documents as semantic vectors,"
   ]
  },
  {
   "cell_type": "markdown",
   "id": "fa2a20de-b440-480e-8d03-dd64ae1204d7",
   "metadata": {},
   "source": [
    "## as efficiently (computer-wise) and painlessly (human-wise) as possible."
   ]
  },
  {
   "cell_type": "markdown",
   "id": "022f7f9d-a0bd-4469-b21e-87b28d5a9cb9",
   "metadata": {},
   "source": [
    "#### Gensim is designed to process raw, unstructured digital texts (“plain text”) using unsupervised machine learning algorithms."
   ]
  },
  {
   "cell_type": "code",
   "execution_count": 19,
   "id": "bb12dde6-6da4-4dad-90d7-0202bfe9d9c6",
   "metadata": {},
   "outputs": [
    {
     "name": "stdout",
     "output_type": "stream",
     "text": [
      "Collecting gensim\n",
      "  Downloading gensim-4.3.3-cp38-cp38-win_amd64.whl.metadata (8.2 kB)\n",
      "Requirement already satisfied: numpy<2.0,>=1.18.5 in c:\\users\\victus\\.conda\\envs\\deepl\\lib\\site-packages (from gensim) (1.24.4)\n",
      "Requirement already satisfied: scipy<1.14.0,>=1.7.0 in c:\\users\\victus\\.conda\\envs\\deepl\\lib\\site-packages (from gensim) (1.10.1)\n",
      "Collecting smart-open>=1.8.1 (from gensim)\n",
      "  Downloading smart_open-7.1.0-py3-none-any.whl.metadata (24 kB)\n",
      "Requirement already satisfied: wrapt in c:\\users\\victus\\.conda\\envs\\deepl\\lib\\site-packages (from smart-open>=1.8.1->gensim) (1.17.2)\n",
      "Downloading gensim-4.3.3-cp38-cp38-win_amd64.whl (24.0 MB)\n",
      "   ---------------------------------------- 0.0/24.0 MB ? eta -:--:--\n",
      "   ---------------------------------------- 0.0/24.0 MB ? eta -:--:--\n",
      "    --------------------------------------- 0.5/24.0 MB 1.4 MB/s eta 0:00:17\n",
      "   - -------------------------------------- 0.8/24.0 MB 1.6 MB/s eta 0:00:15\n",
      "   -- ------------------------------------- 1.3/24.0 MB 1.7 MB/s eta 0:00:14\n",
      "   --- ------------------------------------ 1.8/24.0 MB 2.0 MB/s eta 0:00:12\n",
      "   --- ------------------------------------ 2.1/24.0 MB 2.0 MB/s eta 0:00:12\n",
      "   --- ------------------------------------ 2.4/24.0 MB 1.7 MB/s eta 0:00:13\n",
      "   ---- ----------------------------------- 2.9/24.0 MB 1.9 MB/s eta 0:00:12\n",
      "   ------ --------------------------------- 3.7/24.0 MB 2.1 MB/s eta 0:00:10\n",
      "   ------ --------------------------------- 3.9/24.0 MB 2.1 MB/s eta 0:00:10\n",
      "   ------- -------------------------------- 4.7/24.0 MB 2.2 MB/s eta 0:00:09\n",
      "   -------- ------------------------------- 5.2/24.0 MB 2.3 MB/s eta 0:00:09\n",
      "   -------- ------------------------------- 5.2/24.0 MB 2.3 MB/s eta 0:00:09\n",
      "   ---------- ----------------------------- 6.0/24.0 MB 2.1 MB/s eta 0:00:09\n",
      "   ----------- ---------------------------- 7.1/24.0 MB 2.3 MB/s eta 0:00:08\n",
      "   ------------ --------------------------- 7.3/24.0 MB 2.4 MB/s eta 0:00:07\n",
      "   ------------- -------------------------- 8.4/24.0 MB 2.5 MB/s eta 0:00:07\n",
      "   -------------- ------------------------- 8.9/24.0 MB 2.4 MB/s eta 0:00:07\n",
      "   --------------- ------------------------ 9.4/24.0 MB 2.6 MB/s eta 0:00:06\n",
      "   --------------- ------------------------ 9.4/24.0 MB 2.6 MB/s eta 0:00:06\n",
      "   ----------------- ---------------------- 10.5/24.0 MB 2.5 MB/s eta 0:00:06\n",
      "   ------------------- -------------------- 11.5/24.0 MB 2.6 MB/s eta 0:00:05\n",
      "   -------------------- ------------------- 12.3/24.0 MB 2.7 MB/s eta 0:00:05\n",
      "   --------------------- ------------------ 13.1/24.0 MB 2.7 MB/s eta 0:00:05\n",
      "   ----------------------- ---------------- 13.9/24.0 MB 2.7 MB/s eta 0:00:04\n",
      "   ----------------------- ---------------- 14.2/24.0 MB 2.7 MB/s eta 0:00:04\n",
      "   ------------------------ --------------- 14.7/24.0 MB 2.7 MB/s eta 0:00:04\n",
      "   -------------------------- ------------- 15.7/24.0 MB 2.8 MB/s eta 0:00:03\n",
      "   --------------------------- ------------ 16.3/24.0 MB 2.8 MB/s eta 0:00:03\n",
      "   --------------------------- ------------ 16.8/24.0 MB 2.8 MB/s eta 0:00:03\n",
      "   ----------------------------- ---------- 17.6/24.0 MB 2.8 MB/s eta 0:00:03\n",
      "   ----------------------------- ---------- 17.8/24.0 MB 2.8 MB/s eta 0:00:03\n",
      "   ----------------------------- ---------- 17.8/24.0 MB 2.8 MB/s eta 0:00:03\n",
      "   ------------------------------- -------- 18.9/24.0 MB 2.7 MB/s eta 0:00:02\n",
      "   -------------------------------- ------- 19.4/24.0 MB 2.7 MB/s eta 0:00:02\n",
      "   --------------------------------- ------ 19.9/24.0 MB 2.8 MB/s eta 0:00:02\n",
      "   --------------------------------- ------ 19.9/24.0 MB 2.8 MB/s eta 0:00:02\n",
      "   --------------------------------- ------ 19.9/24.0 MB 2.8 MB/s eta 0:00:02\n",
      "   --------------------------------- ------ 20.2/24.0 MB 2.5 MB/s eta 0:00:02\n",
      "   ----------------------------------- ---- 21.2/24.0 MB 2.6 MB/s eta 0:00:02\n",
      "   ------------------------------------ --- 22.0/24.0 MB 2.6 MB/s eta 0:00:01\n",
      "   ------------------------------------- -- 22.5/24.0 MB 2.6 MB/s eta 0:00:01\n",
      "   ---------------------------------------  23.6/24.0 MB 2.7 MB/s eta 0:00:01\n",
      "   ---------------------------------------- 24.0/24.0 MB 2.7 MB/s eta 0:00:00\n",
      "Downloading smart_open-7.1.0-py3-none-any.whl (61 kB)\n",
      "Installing collected packages: smart-open, gensim\n",
      "Successfully installed gensim-4.3.3 smart-open-7.1.0\n"
     ]
    }
   ],
   "source": [
    "#!pip install gensim"
   ]
  },
  {
   "cell_type": "code",
   "execution_count": 20,
   "id": "05fb3cfd-4064-4a44-8147-98664da51690",
   "metadata": {},
   "outputs": [],
   "source": [
    "from gensim.models import Word2Vec\n",
    "from nltk.corpus import stopwords\n",
    "import re"
   ]
  },
  {
   "cell_type": "code",
   "execution_count": 21,
   "id": "e31d990f-9524-4cdf-9abb-5a593b20b5d0",
   "metadata": {},
   "outputs": [],
   "source": [
    "para = re.sub(r'\\d',' ',text)\n",
    "para = re.sub(r'\\s+', ' ',para)\n",
    "para = para.lower()\n",
    "para = re.sub(r'\\s+', ' ',para)"
   ]
  },
  {
   "cell_type": "code",
   "execution_count": 22,
   "id": "983cecf3-238c-4b6e-8f68-2b439b09f99d",
   "metadata": {},
   "outputs": [
    {
     "data": {
      "text/plain": [
       "'the climate has continuously changing for centuries. the global warming happens because the natural rotation of the sun that changes the intensity of sunlight and moving closer to the earth. another cause of global warming is greenhouse gases. greenhouse gases are carbon monoxide and sulphur dioxide it trap the solar heats rays and prevent it from escaping from the surface of the earth. this has cause the temperature of the earth increase. volcanic eruptions are another issue that causes global warming. for instance, a single volcanic eruption will release amount of carbon dioxide and ash to the atmosphere. once carbon dioxide increase, the temperature of earth increase and greenhouse trap the solar radiations in the earth. finally, methane is another issue that causes global warming. methane is also a greenhouse gas. methane is more effective in trapping heat in the atmosphere that carbon dioxide by times. usually methane gas can release from many areas. for instance, it can be from cattle, landfill, natural gas, petroleum systems, coal mining, mobile explosion, or industrial waste process.'"
      ]
     },
     "execution_count": 22,
     "metadata": {},
     "output_type": "execute_result"
    }
   ],
   "source": [
    "para"
   ]
  },
  {
   "cell_type": "code",
   "execution_count": 23,
   "id": "3a861cb1-2e18-4830-9fdd-df9d4890ab69",
   "metadata": {},
   "outputs": [
    {
     "name": "stdout",
     "output_type": "stream",
     "text": [
      "showing info https://raw.githubusercontent.com/nltk/nltk_data/gh-pages/index.xml\n"
     ]
    },
    {
     "data": {
      "text/plain": [
       "True"
      ]
     },
     "execution_count": 23,
     "metadata": {},
     "output_type": "execute_result"
    }
   ],
   "source": [
    "nltk.download()"
   ]
  },
  {
   "cell_type": "code",
   "execution_count": 24,
   "id": "cb58fc6c-a195-40c4-8bc6-9802030c1089",
   "metadata": {},
   "outputs": [],
   "source": [
    "sentences = nltk.sent_tokenize(para)"
   ]
  },
  {
   "cell_type": "code",
   "execution_count": 25,
   "id": "1b2e825f-8013-442f-adb1-1d259a951357",
   "metadata": {},
   "outputs": [
    {
     "data": {
      "text/plain": [
       "['the climate has continuously changing for centuries.',\n",
       " 'the global warming happens because the natural rotation of the sun that changes the intensity of sunlight and moving closer to the earth.',\n",
       " 'another cause of global warming is greenhouse gases.',\n",
       " 'greenhouse gases are carbon monoxide and sulphur dioxide it trap the solar heats rays and prevent it from escaping from the surface of the earth.',\n",
       " 'this has cause the temperature of the earth increase.',\n",
       " 'volcanic eruptions are another issue that causes global warming.',\n",
       " 'for instance, a single volcanic eruption will release amount of carbon dioxide and ash to the atmosphere.',\n",
       " 'once carbon dioxide increase, the temperature of earth increase and greenhouse trap the solar radiations in the earth.',\n",
       " 'finally, methane is another issue that causes global warming.',\n",
       " 'methane is also a greenhouse gas.',\n",
       " 'methane is more effective in trapping heat in the atmosphere that carbon dioxide by times.',\n",
       " 'usually methane gas can release from many areas.',\n",
       " 'for instance, it can be from cattle, landfill, natural gas, petroleum systems, coal mining, mobile explosion, or industrial waste process.']"
      ]
     },
     "execution_count": 25,
     "metadata": {},
     "output_type": "execute_result"
    }
   ],
   "source": [
    "sentences"
   ]
  },
  {
   "cell_type": "code",
   "execution_count": 26,
   "id": "314ae02b-3ca9-4350-b02c-700a4c8e0125",
   "metadata": {},
   "outputs": [
    {
     "data": {
      "text/plain": [
       "13"
      ]
     },
     "execution_count": 26,
     "metadata": {},
     "output_type": "execute_result"
    }
   ],
   "source": [
    "len(sentences)"
   ]
  },
  {
   "cell_type": "code",
   "execution_count": 27,
   "id": "40811c8e-d57f-46c7-89b2-7e2129208467",
   "metadata": {},
   "outputs": [],
   "source": [
    "sentences = [nltk.word_tokenize(sentence) for sentence in sentences]"
   ]
  },
  {
   "cell_type": "code",
   "execution_count": 28,
   "id": "c7b8d767-4974-42bc-8166-119d51b28cfb",
   "metadata": {},
   "outputs": [
    {
     "data": {
      "text/plain": [
       "[['the',\n",
       "  'climate',\n",
       "  'has',\n",
       "  'continuously',\n",
       "  'changing',\n",
       "  'for',\n",
       "  'centuries',\n",
       "  '.'],\n",
       " ['the',\n",
       "  'global',\n",
       "  'warming',\n",
       "  'happens',\n",
       "  'because',\n",
       "  'the',\n",
       "  'natural',\n",
       "  'rotation',\n",
       "  'of',\n",
       "  'the',\n",
       "  'sun',\n",
       "  'that',\n",
       "  'changes',\n",
       "  'the',\n",
       "  'intensity',\n",
       "  'of',\n",
       "  'sunlight',\n",
       "  'and',\n",
       "  'moving',\n",
       "  'closer',\n",
       "  'to',\n",
       "  'the',\n",
       "  'earth',\n",
       "  '.'],\n",
       " ['another',\n",
       "  'cause',\n",
       "  'of',\n",
       "  'global',\n",
       "  'warming',\n",
       "  'is',\n",
       "  'greenhouse',\n",
       "  'gases',\n",
       "  '.'],\n",
       " ['greenhouse',\n",
       "  'gases',\n",
       "  'are',\n",
       "  'carbon',\n",
       "  'monoxide',\n",
       "  'and',\n",
       "  'sulphur',\n",
       "  'dioxide',\n",
       "  'it',\n",
       "  'trap',\n",
       "  'the',\n",
       "  'solar',\n",
       "  'heats',\n",
       "  'rays',\n",
       "  'and',\n",
       "  'prevent',\n",
       "  'it',\n",
       "  'from',\n",
       "  'escaping',\n",
       "  'from',\n",
       "  'the',\n",
       "  'surface',\n",
       "  'of',\n",
       "  'the',\n",
       "  'earth',\n",
       "  '.'],\n",
       " ['this',\n",
       "  'has',\n",
       "  'cause',\n",
       "  'the',\n",
       "  'temperature',\n",
       "  'of',\n",
       "  'the',\n",
       "  'earth',\n",
       "  'increase',\n",
       "  '.'],\n",
       " ['volcanic',\n",
       "  'eruptions',\n",
       "  'are',\n",
       "  'another',\n",
       "  'issue',\n",
       "  'that',\n",
       "  'causes',\n",
       "  'global',\n",
       "  'warming',\n",
       "  '.'],\n",
       " ['for',\n",
       "  'instance',\n",
       "  ',',\n",
       "  'a',\n",
       "  'single',\n",
       "  'volcanic',\n",
       "  'eruption',\n",
       "  'will',\n",
       "  'release',\n",
       "  'amount',\n",
       "  'of',\n",
       "  'carbon',\n",
       "  'dioxide',\n",
       "  'and',\n",
       "  'ash',\n",
       "  'to',\n",
       "  'the',\n",
       "  'atmosphere',\n",
       "  '.'],\n",
       " ['once',\n",
       "  'carbon',\n",
       "  'dioxide',\n",
       "  'increase',\n",
       "  ',',\n",
       "  'the',\n",
       "  'temperature',\n",
       "  'of',\n",
       "  'earth',\n",
       "  'increase',\n",
       "  'and',\n",
       "  'greenhouse',\n",
       "  'trap',\n",
       "  'the',\n",
       "  'solar',\n",
       "  'radiations',\n",
       "  'in',\n",
       "  'the',\n",
       "  'earth',\n",
       "  '.'],\n",
       " ['finally',\n",
       "  ',',\n",
       "  'methane',\n",
       "  'is',\n",
       "  'another',\n",
       "  'issue',\n",
       "  'that',\n",
       "  'causes',\n",
       "  'global',\n",
       "  'warming',\n",
       "  '.'],\n",
       " ['methane', 'is', 'also', 'a', 'greenhouse', 'gas', '.'],\n",
       " ['methane',\n",
       "  'is',\n",
       "  'more',\n",
       "  'effective',\n",
       "  'in',\n",
       "  'trapping',\n",
       "  'heat',\n",
       "  'in',\n",
       "  'the',\n",
       "  'atmosphere',\n",
       "  'that',\n",
       "  'carbon',\n",
       "  'dioxide',\n",
       "  'by',\n",
       "  'times',\n",
       "  '.'],\n",
       " ['usually', 'methane', 'gas', 'can', 'release', 'from', 'many', 'areas', '.'],\n",
       " ['for',\n",
       "  'instance',\n",
       "  ',',\n",
       "  'it',\n",
       "  'can',\n",
       "  'be',\n",
       "  'from',\n",
       "  'cattle',\n",
       "  ',',\n",
       "  'landfill',\n",
       "  ',',\n",
       "  'natural',\n",
       "  'gas',\n",
       "  ',',\n",
       "  'petroleum',\n",
       "  'systems',\n",
       "  ',',\n",
       "  'coal',\n",
       "  'mining',\n",
       "  ',',\n",
       "  'mobile',\n",
       "  'explosion',\n",
       "  ',',\n",
       "  'or',\n",
       "  'industrial',\n",
       "  'waste',\n",
       "  'process',\n",
       "  '.']]"
      ]
     },
     "execution_count": 28,
     "metadata": {},
     "output_type": "execute_result"
    }
   ],
   "source": [
    "sentences"
   ]
  },
  {
   "cell_type": "code",
   "execution_count": 29,
   "id": "fe2c0c40-5f8a-4ee5-bb57-75c5d4f173d3",
   "metadata": {},
   "outputs": [],
   "source": [
    "for i in range(len(sentences)):\n",
    "    sentences[i] = [word for word in sentences[i] if word not in stopwords.words('english')]"
   ]
  },
  {
   "cell_type": "code",
   "execution_count": 30,
   "id": "f9c866b0-4645-4874-b93c-668cdb9dfa84",
   "metadata": {},
   "outputs": [
    {
     "data": {
      "text/plain": [
       "[['climate', 'continuously', 'changing', 'centuries', '.'],\n",
       " ['global',\n",
       "  'warming',\n",
       "  'happens',\n",
       "  'natural',\n",
       "  'rotation',\n",
       "  'sun',\n",
       "  'changes',\n",
       "  'intensity',\n",
       "  'sunlight',\n",
       "  'moving',\n",
       "  'closer',\n",
       "  'earth',\n",
       "  '.'],\n",
       " ['another', 'cause', 'global', 'warming', 'greenhouse', 'gases', '.'],\n",
       " ['greenhouse',\n",
       "  'gases',\n",
       "  'carbon',\n",
       "  'monoxide',\n",
       "  'sulphur',\n",
       "  'dioxide',\n",
       "  'trap',\n",
       "  'solar',\n",
       "  'heats',\n",
       "  'rays',\n",
       "  'prevent',\n",
       "  'escaping',\n",
       "  'surface',\n",
       "  'earth',\n",
       "  '.'],\n",
       " ['cause', 'temperature', 'earth', 'increase', '.'],\n",
       " ['volcanic',\n",
       "  'eruptions',\n",
       "  'another',\n",
       "  'issue',\n",
       "  'causes',\n",
       "  'global',\n",
       "  'warming',\n",
       "  '.'],\n",
       " ['instance',\n",
       "  ',',\n",
       "  'single',\n",
       "  'volcanic',\n",
       "  'eruption',\n",
       "  'release',\n",
       "  'amount',\n",
       "  'carbon',\n",
       "  'dioxide',\n",
       "  'ash',\n",
       "  'atmosphere',\n",
       "  '.'],\n",
       " ['carbon',\n",
       "  'dioxide',\n",
       "  'increase',\n",
       "  ',',\n",
       "  'temperature',\n",
       "  'earth',\n",
       "  'increase',\n",
       "  'greenhouse',\n",
       "  'trap',\n",
       "  'solar',\n",
       "  'radiations',\n",
       "  'earth',\n",
       "  '.'],\n",
       " ['finally',\n",
       "  ',',\n",
       "  'methane',\n",
       "  'another',\n",
       "  'issue',\n",
       "  'causes',\n",
       "  'global',\n",
       "  'warming',\n",
       "  '.'],\n",
       " ['methane', 'also', 'greenhouse', 'gas', '.'],\n",
       " ['methane',\n",
       "  'effective',\n",
       "  'trapping',\n",
       "  'heat',\n",
       "  'atmosphere',\n",
       "  'carbon',\n",
       "  'dioxide',\n",
       "  'times',\n",
       "  '.'],\n",
       " ['usually', 'methane', 'gas', 'release', 'many', 'areas', '.'],\n",
       " ['instance',\n",
       "  ',',\n",
       "  'cattle',\n",
       "  ',',\n",
       "  'landfill',\n",
       "  ',',\n",
       "  'natural',\n",
       "  'gas',\n",
       "  ',',\n",
       "  'petroleum',\n",
       "  'systems',\n",
       "  ',',\n",
       "  'coal',\n",
       "  'mining',\n",
       "  ',',\n",
       "  'mobile',\n",
       "  'explosion',\n",
       "  ',',\n",
       "  'industrial',\n",
       "  'waste',\n",
       "  'process',\n",
       "  '.']]"
      ]
     },
     "execution_count": 30,
     "metadata": {},
     "output_type": "execute_result"
    }
   ],
   "source": [
    "sentences"
   ]
  },
  {
   "cell_type": "code",
   "execution_count": 31,
   "id": "23987557-7de5-43f6-a230-2b17a23ef3f0",
   "metadata": {},
   "outputs": [],
   "source": [
    "model = Word2Vec(sentences,min_count=2)"
   ]
  },
  {
   "cell_type": "markdown",
   "id": "32117512-1890-4796-9864-2db02d9366c7",
   "metadata": {},
   "source": [
    "### min_count=2: This parameter specifies the minimum number of times a word must appear in the training data to be included in the model's vocabulary. Words that occur less than 2 times will be ignored."
   ]
  },
  {
   "cell_type": "markdown",
   "id": "aa567c0e-4345-4953-8fe8-a5efb2d44fe4",
   "metadata": {},
   "source": [
    "# words = model.wv.vocab"
   ]
  },
  {
   "cell_type": "code",
   "execution_count": 32,
   "id": "2fc9d180-85d1-4dd7-a086-e0563252a7ac",
   "metadata": {},
   "outputs": [],
   "source": [
    "vector = model.wv['global']"
   ]
  },
  {
   "cell_type": "code",
   "execution_count": 33,
   "id": "25b8343e-58b1-437f-9420-95f434a32cd6",
   "metadata": {},
   "outputs": [
    {
     "data": {
      "text/plain": [
       "(100,)"
      ]
     },
     "execution_count": 33,
     "metadata": {},
     "output_type": "execute_result"
    }
   ],
   "source": [
    "vector.shape"
   ]
  },
  {
   "cell_type": "code",
   "execution_count": 34,
   "id": "c00c7f09-f949-44ca-8f56-a6bdc295db12",
   "metadata": {},
   "outputs": [
    {
     "data": {
      "text/plain": [
       "[('temperature', 0.25295764207839966),\n",
       " ('earth', 0.17037425935268402),\n",
       " ('solar', 0.15011754631996155),\n",
       " ('warming', 0.13924837112426758),\n",
       " ('issue', 0.1084781363606453),\n",
       " ('release', 0.09975417703390121),\n",
       " ('greenhouse', 0.035267166793346405),\n",
       " ('causes', 0.03357555344700813),\n",
       " ('gases', 0.016446169465780258),\n",
       " ('natural', 0.013856201432645321)]"
      ]
     },
     "execution_count": 34,
     "metadata": {},
     "output_type": "execute_result"
    }
   ],
   "source": [
    "model.wv.most_similar('global')"
   ]
  },
  {
   "cell_type": "code",
   "execution_count": 35,
   "id": "184122ba-160a-47c1-8ae7-af2643c73f83",
   "metadata": {},
   "outputs": [
    {
     "data": {
      "text/plain": [
       "[('increase', 0.16687826812267303),\n",
       " ('global', 0.1392483413219452),\n",
       " ('methane', 0.13180485367774963),\n",
       " ('natural', 0.09753084182739258),\n",
       " ('cause', 0.07178264111280441),\n",
       " ('earth', 0.06410785764455795),\n",
       " ('dioxide', 0.06106419488787651),\n",
       " ('issue', 0.04776986315846443),\n",
       " ('temperature', 0.04407171905040741),\n",
       " ('gas', 0.019936688244342804)]"
      ]
     },
     "execution_count": 35,
     "metadata": {},
     "output_type": "execute_result"
    }
   ],
   "source": [
    "model.wv.most_similar('warming')"
   ]
  },
  {
   "cell_type": "code",
   "execution_count": 36,
   "id": "4b9e2e3f-febf-416e-ad8e-5f751f805a56",
   "metadata": {},
   "outputs": [
    {
     "data": {
      "text/plain": [
       "[('solar', 0.12813477218151093),\n",
       " ('increase', 0.10928673297166824),\n",
       " ('carbon', 0.10865344107151031),\n",
       " ('trap', 0.10797619819641113),\n",
       " ('atmosphere', 0.09932279586791992),\n",
       " ('cause', 0.09611022472381592),\n",
       " ('instance', 0.0863659456372261),\n",
       " ('.', 0.06253919750452042),\n",
       " ('greenhouse', 0.05043398588895798),\n",
       " ('dioxide', 0.02675705775618553)]"
      ]
     },
     "execution_count": 36,
     "metadata": {},
     "output_type": "execute_result"
    }
   ],
   "source": [
    "model.wv.most_similar('gas')"
   ]
  },
  {
   "cell_type": "code",
   "execution_count": null,
   "id": "2d767103-af9c-4cdd-afa1-86ed19fe278c",
   "metadata": {},
   "outputs": [],
   "source": []
  }
 ],
 "metadata": {
  "kernelspec": {
   "display_name": "Python 3 (ipykernel)",
   "language": "python",
   "name": "python3"
  },
  "language_info": {
   "codemirror_mode": {
    "name": "ipython",
    "version": 3
   },
   "file_extension": ".py",
   "mimetype": "text/x-python",
   "name": "python",
   "nbconvert_exporter": "python",
   "pygments_lexer": "ipython3",
   "version": "3.12.4"
  }
 },
 "nbformat": 4,
 "nbformat_minor": 5
}
